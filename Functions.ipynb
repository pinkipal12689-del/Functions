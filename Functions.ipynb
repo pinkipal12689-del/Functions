{
  "nbformat": 4,
  "nbformat_minor": 0,
  "metadata": {
    "colab": {
      "provenance": []
    },
    "kernelspec": {
      "name": "python3",
      "display_name": "Python 3"
    },
    "language_info": {
      "name": "python"
    }
  },
  "cells": [
    {
      "cell_type": "markdown",
      "source": [
        "1. What is the difference between a function and a method in Python?\n",
        "\n",
        "   -In Python, a function is a code that performs a specific task and is defined independently using the def keyword. A method, on the other hand, is a function that is associated with an object and is called using dot notation (e.g., 'object.method()'). Methods are defined within classes and automatically receive the object instance ('self') as their first argument. While functions can be used standalone, methods operate on the data within objects.\n",
        "\n",
        "   -For example, 'len(\"hello\")' is a function, while '\"hello\".upper()' is a method.\n",
        "\n"
      ],
      "metadata": {
        "id": "v3n1kfv-Z8K5"
      }
    },
    {
      "cell_type": "markdown",
      "source": [
        "2. Explain the concept of function arguments and parameters in Python.\n",
        "\n",
        "   -In Python, parameters are the variable names listed in a function definition, while arguments are the actual values passed to the function when it is called. Parameters act as placeholders, and arguments fill those placeholders during execution. We can pass arguments as positional or keyword values.\n",
        "   \n",
        "   -Example:\n",
        "    \n",
        "    def greet(name):\n",
        "\n",
        "    print(\"Hello\", name)\n",
        "\n",
        "    greet(\"Sara\")"
      ],
      "metadata": {
        "id": "1F7Gyxp4Z7_u"
      }
    },
    {
      "cell_type": "markdown",
      "source": [
        "3. What are the different ways to define and call a function in Python?\n",
        "\n",
        "   -In Python, you can define functions using def or lambda. Functions can be called with positional, keyword, default, or variable-length arguments. This allows flexibility in how functions are used.\n",
        "\n",
        "   -Example:\n",
        "   \n",
        "   def add(a, b=2): return a + b  \n",
        "\n",
        "   print(add(3))  \n"
      ],
      "metadata": {
        "id": "Q_B-6VcyZ71z"
      }
    },
    {
      "cell_type": "markdown",
      "source": [
        "4. What is the purpose of the 'return' statement in a Python function?\n",
        "   \n",
        "   -The return statement in Python is used to send a result back from a function to the caller. It ends the function's execution and optionally passes back a value. Without return, the function returns 'None' by default.\n",
        "\n",
        "   -Example:\n",
        "\n",
        "   def square(a): return a * a  \n",
        "\n",
        "   print(square(4))\n"
      ],
      "metadata": {
        "id": "N-vhwyZiZ7rr"
      }
    },
    {
      "cell_type": "markdown",
      "source": [
        "5. What are iterators in Python and how do they differ from iterables?\n",
        "\n",
        "   -In Python, an iterable is any object you can loop over (like lists, strings, or tuples). An iterator is an object that keeps state and produces the next value when you call 'next()'. All iterators are iterables, but not all iterables are iterators. You can get an iterator from an iterable using the 'iter()' function.\n",
        "\n",
        "   -Example:\n",
        "   \n",
        "   nums = [1, 2, 3]    \n",
        "   \n",
        "   it = iter(nums)        \n",
        "\n",
        "   print(next(it))        "
      ],
      "metadata": {
        "id": "ffoLRktjZ7hg"
      }
    },
    {
      "cell_type": "markdown",
      "source": [
        "6. Explain the concept of generators in Python and how they are defined.\n",
        "\n",
        "   -Generators in Python are functions that return an iterator using the 'yield' keyword instead of 'return'. They generate values on the fly, saving memory. Each call to 'next()' resumes from where it last yielded.\n",
        "\n",
        "   -Example:\n",
        "\n",
        "    def gen_nums():\n",
        "    \n",
        "       yield 1\n",
        "    \n",
        "       yield 2\n",
        "\n",
        "       g = gen_nums()\n",
        "    \n",
        "       print(next(g))"
      ],
      "metadata": {
        "id": "x3sE5CneZ7Wn"
      }
    },
    {
      "cell_type": "markdown",
      "source": [
        "7. What are the advantages of using generators over regular functions?\n",
        "\n",
        "   -Generators in Python are memory-efficient as they yield one value at a time instead of returning all at once. They use lazy evaluation and retain their state between executions. This makes them ideal for handling large datasets or infinite sequences efficiently.\n",
        "\n",
        "   -Example:\n",
        "\n",
        "    def count_up_to(n):\n",
        "   \n",
        "       for i in range(n):\n",
        "       \n",
        "         yield i\n",
        "\n"
      ],
      "metadata": {
        "id": "rmP3ou--Z7Le"
      }
    },
    {
      "cell_type": "markdown",
      "source": [
        "8. What is a lambda function in Python and when is it typically used?\n",
        "\n",
        "   -A lambda function in Python is an anonymous function defined with the 'lambda' keyword, used for small, simple operations. It’s often used as an argument in functions like 'map()', 'filter()', and 'sorted()'. This helps keep the code short and clean.\n",
        "\n",
        "   -Example:\n",
        "\n",
        "   square = lambda a: a * a\n",
        "\n",
        "   print(square(5))\n",
        "\n"
      ],
      "metadata": {
        "id": "2EGwLho6Z6_Q"
      }
    },
    {
      "cell_type": "markdown",
      "source": [
        "9. Explain the purpose and usage of the 'map()' function in Python.\n",
        "\n",
        "   -The 'map()' function in Python applies a given function to all items in an iterable and returns a map object. It's used to transform data with using explicit loops.\n",
        "\n",
        "   -Example:\n",
        "\n",
        "   nums = [1, 2, 3, 4]\n",
        "\n",
        "   square = list(map(lambda a: a**2, nums))\n",
        "\n",
        "   print(square)\n"
      ],
      "metadata": {
        "id": "eOPloU0BZ6xD"
      }
    },
    {
      "cell_type": "markdown",
      "source": [
        "10. What is the difference between 'map()', 'reduce()', and 'filter()' functions in Python?\n",
        "\n",
        "     -The 'map()' function applies a function to each item in an iterable. 'filter()' selects items based on a condition. 'reduce()' applies a function cumulatively to reduce the iterable to a single value.\n",
        "\n",
        "     -Example:\n",
        "\n",
        "     from functools import reduce\n",
        "\n",
        "     nums = [1, 2, 3, 4, 5]\n",
        "\n",
        "     print(list(map(lambda a: a*2, nums)))    \n",
        "\n",
        "     print(list(filter(lambda a: a%2 == 0, nums)))  \n",
        "\n",
        "     print(reduce(lambda a, b: a + b, nums))    \n"
      ],
      "metadata": {
        "id": "r9oYZSoWZ6ht"
      }
    },
    {
      "cell_type": "markdown",
      "source": [
        "11. Using pen & Paper write the internal mechanism for sum operation using  reduce function on this given\n",
        "list:[47,11,42,13];\n",
        "\n",
        "     -The 'reduce()' function works by applying a function cumulatively to the items of a list. For the list '[47, 11, 42, 13]', it performs the sum step-by-step:\n",
        "\n",
        "     Step 1: 47 + 11 = 58\n",
        "\n",
        "     Step 2: 58 + 42 = 100\n",
        "\n",
        "     Step 3: 100 + 13 = 113 → Final result\n",
        "\n",
        "     -Example:\n",
        "\n",
        "     from functools import reduce\n",
        "\n",
        "     print(reduce(lambda a, b: a + b, [47, 11, 42, 13]))  \n"
      ],
      "metadata": {
        "id": "N1jlSAWOZ2yn"
      }
    },
    {
      "cell_type": "code",
      "execution_count": 8,
      "metadata": {
        "id": "W6_Cc7y4Zi_0",
        "colab": {
          "base_uri": "https://localhost:8080/"
        },
        "outputId": "e202bcee-6641-43f5-980c-6cdd4b73a875"
      },
      "outputs": [
        {
          "output_type": "stream",
          "name": "stdout",
          "text": [
            "12\n"
          ]
        }
      ],
      "source": [
        "#1. Write a Python function that takes a list of numbers as input and returns the sum of all even numbers in the list.\n",
        "\n",
        "def sum_even_numbers(numbers):\n",
        "    return sum(num for num in numbers if num % 2 == 0)\n",
        "print(sum_even_numbers([1, 2, 3, 4, 5, 6]))"
      ]
    },
    {
      "cell_type": "code",
      "source": [
        "#2. Create a Python function that accepts a string and returns the reverse of that string.\n",
        "\n",
        "def reverse_string(s):\n",
        "    return s[::-1]\n",
        "print(reverse_string(\"hello\"))"
      ],
      "metadata": {
        "id": "9ntvhbBidinb",
        "colab": {
          "base_uri": "https://localhost:8080/"
        },
        "outputId": "e58f392b-ca80-43d2-cd75-4aae0a784720"
      },
      "execution_count": 9,
      "outputs": [
        {
          "output_type": "stream",
          "name": "stdout",
          "text": [
            "olleh\n"
          ]
        }
      ]
    },
    {
      "cell_type": "code",
      "source": [
        "#3. Implement a Python function that takes a list of integers and returns a new list containing the squares of each number.\n",
        "\n",
        "def square_list(numbers):\n",
        "    return [a**2 for a in numbers]\n",
        "print(square_list([1, 2, 3, 4]))"
      ],
      "metadata": {
        "id": "IlioXrcYdicP",
        "colab": {
          "base_uri": "https://localhost:8080/"
        },
        "outputId": "52bc0318-176e-43e9-ee33-66d0b35af0ef"
      },
      "execution_count": 10,
      "outputs": [
        {
          "output_type": "stream",
          "name": "stdout",
          "text": [
            "[1, 4, 9, 16]\n"
          ]
        }
      ]
    },
    {
      "cell_type": "code",
      "source": [
        "#4. Write a Python function that checks if a given number is prime or not from 1 to 200.\n",
        "\n",
        "def is_prime(num):\n",
        "    if num <= 1 or num > 200:\n",
        "        return False\n",
        "    for i in range(2, int(num**0.5) + 1):\n",
        "        if num % i == 0:\n",
        "            return False\n",
        "print(is_prime(17))\n",
        "print(is_prime(200))"
      ],
      "metadata": {
        "id": "JJEUyG-HdiQ5",
        "colab": {
          "base_uri": "https://localhost:8080/"
        },
        "outputId": "91a51d4e-14df-48ed-c76d-b58349396e36"
      },
      "execution_count": 11,
      "outputs": [
        {
          "output_type": "stream",
          "name": "stdout",
          "text": [
            "None\n",
            "False\n"
          ]
        }
      ]
    },
    {
      "cell_type": "code",
      "source": [
        "#5. Create an iterator class in Python that generates the Fibonacci sequence up to a specified number of terms.\n",
        "\n",
        "class FibonacciIterator:\n",
        "    def _init_(self, num_terms):\n",
        "        self.num_terms = num_terms\n",
        "        self.index = 0\n",
        "        self.prev = 0\n",
        "        self.curr = 1\n",
        "    def _iter_(self):\n",
        "        return self\n",
        "    def _next_(self):\n",
        "        if self.index >= self.num_terms:\n",
        "            raise StopIteration\n",
        "        if self.index == 0:\n",
        "            self.index += 1\n",
        "            return self.prev\n",
        "        elif self.index == 1:\n",
        "            self.index += 1\n",
        "            return self.curr\n",
        "        else:\n",
        "            self.prev, self.curr = self.curr, self.prev + self.curr\n",
        "            self.index += 1\n",
        "            return self.curr\n",
        "            for num in FibonacciIterator(10):\n",
        "              print(num)"
      ],
      "metadata": {
        "id": "dM05c5jmdiFs"
      },
      "execution_count": 12,
      "outputs": []
    },
    {
      "cell_type": "code",
      "source": [
        "#6. Write a generator function in Python that yields the powers of 2 up to a given exponent.\n",
        "\n",
        "def powers_of_two(n):\n",
        "    for i in range(n + 1):\n",
        "        yield 2 ** i\n",
        "for power in powers_of_two(5):\n",
        "    print(power, end=\" \")"
      ],
      "metadata": {
        "id": "VWSiK7Lsdh5_",
        "colab": {
          "base_uri": "https://localhost:8080/"
        },
        "outputId": "aeab87fc-cc98-4cc8-9f10-5ef8ae403b1a"
      },
      "execution_count": 13,
      "outputs": [
        {
          "output_type": "stream",
          "name": "stdout",
          "text": [
            "1 2 4 8 16 32 "
          ]
        }
      ]
    },
    {
      "cell_type": "code",
      "source": [
        "#7. Implement a generator function that reads a file line by line and yields each line as a string.\n",
        "\n"
      ],
      "metadata": {
        "id": "XxPntqtddhuI"
      },
      "execution_count": 14,
      "outputs": []
    },
    {
      "cell_type": "code",
      "source": [
        "#8. Use a lambda function in Python to sort a list of tuples based on the second element of each tuple.\n",
        "\n",
        "tuples = [(1, 3), (4, 1), (2, 2)]\n",
        "sorted_tuples = sorted(tuples, key=lambda a: a[1])\n",
        "print(sorted_tuples)"
      ],
      "metadata": {
        "id": "sW8xzrpidhhH",
        "colab": {
          "base_uri": "https://localhost:8080/"
        },
        "outputId": "1cc33a1c-e886-4a59-b469-834e57e65ffa"
      },
      "execution_count": 15,
      "outputs": [
        {
          "output_type": "stream",
          "name": "stdout",
          "text": [
            "[(4, 1), (2, 2), (1, 3)]\n"
          ]
        }
      ]
    },
    {
      "cell_type": "code",
      "source": [
        "#9. Write a Python program that uses 'map()' to convert a list of temperatures from Celsius to Fahrenheit.\n",
        "\n",
        "def celsius_to_fahrenheit(c):\n",
        "    return (c * 9/5) + 32\n",
        "celsius_temps = [0, 20, 37, 100]\n",
        "fahrenheit_temps = list(map(celsius_to_fahrenheit, celsius_temps))\n",
        "print(fahrenheit_temps)"
      ],
      "metadata": {
        "id": "OTn7vnsZdhQs",
        "colab": {
          "base_uri": "https://localhost:8080/"
        },
        "outputId": "c99ed4ef-fc4b-4d9e-f0e4-bfa20aa98811"
      },
      "execution_count": 16,
      "outputs": [
        {
          "output_type": "stream",
          "name": "stdout",
          "text": [
            "[32.0, 68.0, 98.6, 212.0]\n"
          ]
        }
      ]
    },
    {
      "cell_type": "code",
      "source": [
        "#10. Create a Python program that uses 'filter()' to remove all the vowels from a given string.\n",
        "\n",
        "def remove_vowels(s):\n",
        "    vowels = 'aeiouAEIOU'\n",
        "    return ''.join(filter(lambda char: char not in vowels, s))\n",
        "text = \"Hello, World!\"\n",
        "result = remove_vowels(text)\n",
        "print(result)"
      ],
      "metadata": {
        "id": "XiVpokqedg94",
        "colab": {
          "base_uri": "https://localhost:8080/"
        },
        "outputId": "b61bd242-2989-4b1c-def0-bae10ca69c8f"
      },
      "execution_count": 17,
      "outputs": [
        {
          "output_type": "stream",
          "name": "stdout",
          "text": [
            "Hll, Wrld!\n"
          ]
        }
      ]
    },
    {
      "cell_type": "code",
      "source": [
        "#11) Imagine an accounting routine used in a book shop. It works on a list with sublists, which look like this:\n",
        "\n",
        "orders = [[34587,'Learning Python, Mark Lutz', 4, 40.95],\n",
        "         [98762,'Programming Python, Mark Lutz', 5, 56.80],\n",
        "         [77226,'Head First Python, Paul Barry', 3, 32.95],\n",
        "         [88112,'Einfuhrung in Python, Bernd Klein', 3, 24.99]]\n",
        "result = list(map(lambda order: (\n",
        "    order[0],\n",
        "    order[2] * order[3] if order[2] * order[3] >= 100 else order[2] * order[3] + 10\n",
        "    ), orders))\n",
        "print(result)"
      ],
      "metadata": {
        "id": "SIfAP_LGdgxO",
        "colab": {
          "base_uri": "https://localhost:8080/"
        },
        "outputId": "be3e5e24-ef9a-4b22-9d9c-711cae7c6563"
      },
      "execution_count": 22,
      "outputs": [
        {
          "output_type": "stream",
          "name": "stdout",
          "text": [
            "[(34587, 163.8), (98762, 284.0), (77226, 108.85000000000001), (88112, 84.97)]\n"
          ]
        }
      ]
    }
  ]
}